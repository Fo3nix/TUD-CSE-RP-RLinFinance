{
 "cells": [
  {
   "cell_type": "markdown",
   "id": "7e3470b8",
   "metadata": {},
   "source": [
    "# Imports"
   ]
  },
  {
   "cell_type": "code",
   "execution_count": 1,
   "id": "251cd986",
   "metadata": {},
   "outputs": [],
   "source": [
    "import pandas as pd\n",
    "import numpy as np\n",
    "from ForexEnv_RQ5 import ForexEnv\n",
    "from stable_baselines3 import DQN\n",
    "from stable_baselines3.common.vec_env import DummyVecEnv\n",
    "from stable_baselines3.common.evaluation import evaluate_policy\n",
    "import matplotlib.pyplot as plt"
   ]
  },
  {
   "cell_type": "markdown",
   "id": "35555775",
   "metadata": {},
   "source": [
    "# Loading data"
   ]
  },
  {
   "cell_type": "code",
   "execution_count": 2,
   "id": "cc7dc45d",
   "metadata": {},
   "outputs": [],
   "source": [
    "# --- Notebook Cell 2: Load Bid and Ask Data ---\n",
    "bid_path = '../data/forex/EURUSD/15M/BID/10.05.2022T00.00-10.05.2025T23.45.csv'\n",
    "ask_path = '../data/forex/EURUSD/15M/ASK/10.05.2022T00.00-10.05.2025T23.45.csv'\n",
    "\n",
    "bid_df = pd.read_csv(bid_path, parse_dates=['date_gmt'])\n",
    "ask_df = pd.read_csv(ask_path, parse_dates=['date_gmt'])\n",
    "\n",
    "bid_df.set_index('date_gmt', inplace=True)\n",
    "ask_df.set_index('date_gmt', inplace=True)"
   ]
  },
  {
   "cell_type": "markdown",
   "id": "6c5412ac",
   "metadata": {},
   "source": [
    "# Merge BID and ASK data"
   ]
  },
  {
   "cell_type": "code",
   "execution_count": 3,
   "id": "b167cd9e",
   "metadata": {},
   "outputs": [],
   "source": [
    "df_raw = bid_df.add_suffix('_bid').join(ask_df.add_suffix('_ask'), how='inner')\n",
    "\n",
    "# Rename volume column if needed (assume from bid)\n",
    "df_raw.rename(columns={'volume_bid': 'volume'}, inplace=True)\n",
    "df_raw.drop(columns=['volume_ask'], errors='ignore', inplace=True)\n",
    "\n",
    "# Ensure volume is float\n",
    "df_raw['volume'] = df_raw['volume'].astype(float)"
   ]
  },
  {
   "cell_type": "markdown",
   "id": "5ee641dd",
   "metadata": {},
   "source": [
    "# Train / test split"
   ]
  },
  {
   "cell_type": "code",
   "execution_count": 4,
   "id": "30943ff8",
   "metadata": {},
   "outputs": [
    {
     "name": "stdout",
     "output_type": "stream",
     "text": [
      "Train samples: 36029\n",
      "Test samples: 15442\n"
     ]
    }
   ],
   "source": [
    "train_split = 0.7\n",
    "split_idx = int(len(df_raw) * train_split)\n",
    "train_df = df_raw.iloc[:split_idx]\n",
    "test_df = df_raw.iloc[split_idx:]\n",
    "\n",
    "print(\"Train samples:\", len(train_df))\n",
    "print(\"Test samples:\", len(test_df))"
   ]
  },
  {
   "cell_type": "markdown",
   "id": "7b254f18",
   "metadata": {},
   "source": [
    "# Environment setup"
   ]
  },
  {
   "cell_type": "code",
   "execution_count": 5,
   "id": "7d35dec4",
   "metadata": {},
   "outputs": [],
   "source": [
    "train_env = DummyVecEnv([lambda: ForexEnv(train_df, log_level=0)])\n",
    "test_env = DummyVecEnv([lambda: ForexEnv(test_df, log_level=0)])"
   ]
  },
  {
   "cell_type": "markdown",
   "id": "830492d8",
   "metadata": {},
   "source": [
    "# DQN Model"
   ]
  },
  {
   "cell_type": "code",
   "execution_count": 6,
   "id": "195ea968",
   "metadata": {},
   "outputs": [
    {
     "name": "stdout",
     "output_type": "stream",
     "text": [
      "Using cpu device\n"
     ]
    }
   ],
   "source": [
    "policy_kwargs = dict(net_arch=[128, 128])\n",
    "\n",
    "model = DQN(\n",
    "    policy=\"MlpPolicy\",\n",
    "    env=train_env,\n",
    "    learning_rate=0.001,\n",
    "    buffer_size=50000,\n",
    "    learning_starts=1000,\n",
    "    batch_size=64,\n",
    "    tau=1.0,\n",
    "    gamma=0.99,\n",
    "    train_freq=4,\n",
    "    gradient_steps=1,\n",
    "    target_update_interval=500,\n",
    "    exploration_fraction=0.2,\n",
    "    exploration_initial_eps=1.0,\n",
    "    exploration_final_eps=0.05,\n",
    "    policy_kwargs=policy_kwargs,\n",
    "    verbose=1,\n",
    "    seed=42,\n",
    ")"
   ]
  },
  {
   "cell_type": "markdown",
   "id": "25adc8de",
   "metadata": {},
   "source": [
    "# Train"
   ]
  },
  {
   "cell_type": "code",
   "execution_count": 7,
   "id": "b20c41f5",
   "metadata": {},
   "outputs": [],
   "source": [
    "TOTAL_TIMESTEPS = 50000\n",
    "model.learn(total_timesteps=TOTAL_TIMESTEPS, log_interval=100)\n",
    "model.save(\"dqn_forex_model\")"
   ]
  },
  {
   "cell_type": "markdown",
   "id": "559d8221",
   "metadata": {},
   "source": [
    "# Test"
   ]
  },
  {
   "cell_type": "code",
   "execution_count": 9,
   "id": "fa4280d7",
   "metadata": {},
   "outputs": [
    {
     "name": "stdout",
     "output_type": "stream",
     "text": [
      "Total evaluation steps: 15410\n",
      "Total reward: -416.95\n"
     ]
    }
   ],
   "source": [
    "obs = test_env.reset()\n",
    "done = [False]\n",
    "total_rewards_eval = 0\n",
    "step = 0\n",
    "actions = []\n",
    "equity_curve = []\n",
    "\n",
    "while not done[0]:\n",
    "    action, _ = model.predict(obs, deterministic=True)\n",
    "    obs, reward, done, info = test_env.step(action)\n",
    "    total_rewards_eval += reward[0]\n",
    "    step += 1\n",
    "    actions.append(action[0])\n",
    "    equity_curve.append(info[0].get(\"equity\", np.nan))\n",
    "\n",
    "print(f\"Total evaluation steps: {step}\")\n",
    "print(f\"Total reward: {total_rewards_eval:.2f}\")\n"
   ]
  }
 ],
 "metadata": {
  "kernelspec": {
   "display_name": "Python 3",
   "language": "python",
   "name": "python3"
  },
  "language_info": {
   "codemirror_mode": {
    "name": "ipython",
    "version": 3
   },
   "file_extension": ".py",
   "mimetype": "text/x-python",
   "name": "python",
   "nbconvert_exporter": "python",
   "pygments_lexer": "ipython3",
   "version": "3.9.13"
  }
 },
 "nbformat": 4,
 "nbformat_minor": 5
}
