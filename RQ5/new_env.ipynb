{
 "cells": [
  {
   "cell_type": "markdown",
   "id": "7e3470b8",
   "metadata": {},
   "source": [
    "# Imports"
   ]
  },
  {
   "cell_type": "code",
   "execution_count": 27,
   "id": "251cd986",
   "metadata": {},
   "outputs": [],
   "source": [
    "import pandas as pd\n",
    "import numpy as np\n",
    "import matplotlib.pyplot as plt\n",
    "from collections import Counter\n",
    "\n",
    "from ForexEnv_RQ5 import ForexEnv\n",
    "from stable_baselines3 import DQN\n",
    "from stable_baselines3.common.vec_env import SubprocVecEnv\n",
    "from stable_baselines3.common.vec_env import DummyVecEnv\n",
    "from stable_baselines3.common.evaluation import evaluate_policy\n",
    "\n",
    "from common.constants import DEVICE, SEED\n",
    "from common.data import ForexData, combine_df"
   ]
  },
  {
   "cell_type": "markdown",
   "id": "35555775",
   "metadata": {},
   "source": [
    "# Loading data"
   ]
  },
  {
   "cell_type": "code",
   "execution_count": 28,
   "id": "cc7dc45d",
   "metadata": {},
   "outputs": [],
   "source": [
    "bid_path = 'D:\\\\Facultate\\\\Y3\\\\Q4\\\\TUD-CSE-RP-RLinFinance\\\\RQ5\\\\data\\\\forex\\\\EURUSD\\\\15M\\\\BID\\\\10.05.2022T00.00-10.05.2025T23.45.csv'\n",
    "ask_path = 'D:\\\\Facultate\\\\Y3\\\\Q4\\\\TUD-CSE-RP-RLinFinance\\\\RQ5\\\\data\\\\forex\\\\EURUSD\\\\15M\\\\ASK\\\\10.05.2022T00.00-10.05.2025T23.45.csv'\n",
    "\n",
    "ask_df = ForexData(ask_path).df\n",
    "bid_df = ForexData(bid_path).df\n",
    "forex_data = combine_df(bid_df, ask_df)"
   ]
  },
  {
   "cell_type": "markdown",
   "id": "5ee641dd",
   "metadata": {},
   "source": [
    "# Train / test split"
   ]
  },
  {
   "cell_type": "code",
   "execution_count": 29,
   "id": "30943ff8",
   "metadata": {},
   "outputs": [
    {
     "name": "stdout",
     "output_type": "stream",
     "text": [
      "Train samples: 41176\n",
      "Test samples: 10295\n"
     ]
    }
   ],
   "source": [
    "train_split = 0.8\n",
    "split_idx = int(len(forex_data) * train_split)\n",
    "train_df = forex_data.iloc[:split_idx]\n",
    "test_df = forex_data.iloc[split_idx:]\n",
    "\n",
    "print(\"Train samples:\", len(train_df))\n",
    "print(\"Test samples:\", len(test_df))"
   ]
  },
  {
   "cell_type": "markdown",
   "id": "7b254f18",
   "metadata": {},
   "source": [
    "# Environment setup"
   ]
  },
  {
   "cell_type": "code",
   "execution_count": 30,
   "id": "f61e9fad",
   "metadata": {},
   "outputs": [],
   "source": [
    "def make_env(df, seed=None):\n",
    "    def _init():\n",
    "        env = ForexEnv(df.copy(), log_level=0, seed=seed)\n",
    "        return env\n",
    "    return _init"
   ]
  },
  {
   "cell_type": "code",
   "execution_count": 31,
   "id": "7d35dec4",
   "metadata": {},
   "outputs": [],
   "source": [
    "NUM_ENVS = 4\n",
    "\n",
    "train_env = SubprocVecEnv([make_env(train_df, seed=i) for i in range(NUM_ENVS)])\n",
    "test_env = SubprocVecEnv([make_env(test_df, seed=100 + i) for i in range(NUM_ENVS)])\n"
   ]
  },
  {
   "cell_type": "markdown",
   "id": "830492d8",
   "metadata": {},
   "source": [
    "# DQN Model"
   ]
  },
  {
   "cell_type": "code",
   "execution_count": 32,
   "id": "195ea968",
   "metadata": {},
   "outputs": [
    {
     "name": "stdout",
     "output_type": "stream",
     "text": [
      "Using cpu device\n"
     ]
    }
   ],
   "source": [
    "policy_kwargs = dict(net_arch=[128, 128])\n",
    "\n",
    "model = DQN(\n",
    "    policy=\"MlpPolicy\",\n",
    "    env=train_env,\n",
    "    learning_rate=0.001,\n",
    "    buffer_size=50000,\n",
    "    learning_starts=1000,\n",
    "    batch_size=64,\n",
    "    tau=1.0,\n",
    "    gamma=0.99,\n",
    "    train_freq=4,\n",
    "    gradient_steps=1,\n",
    "    target_update_interval=500,\n",
    "    exploration_fraction=0.5,\n",
    "    exploration_initial_eps=1.0,\n",
    "    exploration_final_eps=0.05,\n",
    "    policy_kwargs=policy_kwargs,\n",
    "    verbose=1,\n",
    "    seed=SEED,\n",
    "    device=DEVICE,\n",
    ")"
   ]
  },
  {
   "cell_type": "markdown",
   "id": "25adc8de",
   "metadata": {},
   "source": [
    "# Train"
   ]
  },
  {
   "cell_type": "code",
   "execution_count": 33,
   "id": "b20c41f5",
   "metadata": {},
   "outputs": [],
   "source": [
    "TOTAL_TIMESTEPS = 10000\n",
    "model.learn(total_timesteps=TOTAL_TIMESTEPS, log_interval=10000)\n",
    "model.save(\"dqn_forex_model\")"
   ]
  },
  {
   "cell_type": "markdown",
   "id": "559d8221",
   "metadata": {},
   "source": [
    "# Test"
   ]
  },
  {
   "cell_type": "code",
   "execution_count": 35,
   "id": "fa4280d7",
   "metadata": {},
   "outputs": [
    {
     "name": "stdout",
     "output_type": "stream",
     "text": [
      "Total evaluation steps: 10263\n",
      "Total reward: -0.67\n"
     ]
    }
   ],
   "source": [
    "obs = test_env.reset()\n",
    "done = [False]\n",
    "total_rewards_eval = 0\n",
    "step = 0\n",
    "actions = []\n",
    "equity_curve = []\n",
    "\n",
    "while not done[0]:\n",
    "    action, _ = model.predict(obs, deterministic=True)\n",
    "    obs, reward, done, info = test_env.step(action)\n",
    "    total_rewards_eval += reward[0]\n",
    "    step += 1\n",
    "    actions.append(action[0])\n",
    "    equity_curve.append(info[0].get(\"equity\", np.nan))\n",
    "\n",
    "print(f\"Total evaluation steps: {step}\")\n",
    "print(f\"Total reward: {total_rewards_eval:.2f}\")\n"
   ]
  },
  {
   "cell_type": "markdown",
   "id": "cc030721",
   "metadata": {},
   "source": [
    "# Visualization"
   ]
  },
  {
   "cell_type": "code",
   "execution_count": 26,
   "id": "ba9f7cf8",
   "metadata": {},
   "outputs": [
    {
     "data": {
      "image/png": "[encoded data removed]",
      "text/plain": [
       "<Figure size 1200x500 with 1 Axes>"
      ]
     },
     "metadata": {},
     "output_type": "display_data"
    },
    {
     "data": {
      "image/png": "[encoded data removed]",
      "text/plain": [
       "<Figure size 600x400 with 1 Axes>"
      ]
     },
     "metadata": {},
     "output_type": "display_data"
    }
   ],
   "source": [
    "from typing import Counter\n",
    "\n",
    "\n",
    "plt.figure(figsize=(12, 5))\n",
    "plt.plot(equity_curve)\n",
    "plt.title(\"Equity Curve during Evaluation\")\n",
    "plt.xlabel(\"Timestep\")\n",
    "plt.ylabel(\"Equity\")\n",
    "plt.grid(True)\n",
    "plt.show()\n",
    "\n",
    "plt.figure(figsize=(6, 4))\n",
    "action_counts = Counter(actions)\n",
    "labels = ['HOLD', 'LONG', 'SHORT', 'CASH']\n",
    "values = [action_counts.get(i, 0) for i in range(4)]\n",
    "plt.bar(labels, values)\n",
    "plt.title(\"Action Distribution during Evaluation\")\n",
    "plt.ylabel(\"Count\")\n",
    "plt.grid(axis='y')\n",
    "plt.show()"
   ]
  }
 ],
 "metadata": {
  "kernelspec": {
   "display_name": ".venv",
   "language": "python",
   "name": "python3"
  },
  "language_info": {
   "codemirror_mode": {
    "name": "ipython",
    "version": 3
   },
   "file_extension": ".py",
   "mimetype": "text/x-python",
   "name": "python",
   "nbconvert_exporter": "python",
   "pygments_lexer": "ipython3",
   "version": "3.13.3"
  }
 },
 "nbformat": 4,
 "nbformat_minor": 5
}
