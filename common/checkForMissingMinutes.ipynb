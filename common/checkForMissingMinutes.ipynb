{
 "cells": [
  {
   "cell_type": "code",
   "execution_count": 12,
   "metadata": {},
   "outputs": [],
   "source": [
    "import pandas as pd"
   ]
  },
  {
   "cell_type": "code",
   "execution_count": 13,
   "metadata": {},
   "outputs": [],
   "source": [
    "filename = './forex/EURUSD/1M/BID/01.05.2022T00.00-01.05.2025T23.59.csv'\n",
    "\n",
    "# format like''01.05.2025 23:59:00.000' \n",
    "date_format = '%d.%m.%Y %H:%M:%S.%f'"
   ]
  },
  {
   "cell_type": "code",
   "execution_count": 14,
   "metadata": {},
   "outputs": [
    {
     "name": "stdout",
     "output_type": "stream",
     "text": [
      "Total size: 1326711\n"
     ]
    }
   ],
   "source": [
    "df = pd.read_csv(filename)\n",
    "orig_df = df.copy()\n",
    "print(\"Total size: \" + str(df.shape[0]))"
   ]
  },
  {
   "cell_type": "code",
   "execution_count": 15,
   "metadata": {},
   "outputs": [],
   "source": [
    "df['date_gmt'] = pd.to_datetime(df['date_gmt'], format=date_format)\n",
    "orig_df['date_gmt'] = pd.to_datetime(orig_df['date_gmt'], format=date_format)"
   ]
  },
  {
   "cell_type": "code",
   "execution_count": 16,
   "metadata": {},
   "outputs": [],
   "source": [
    "# find all differences in time between rows that are more than 1minute\n",
    "\n",
    "df['diff'] = df['date_gmt'].diff().dt.total_seconds()\n",
    "df['diff'] = df['diff'].fillna(0)\n",
    "df['diff'] = df['diff'].abs()\n",
    "df['diff'] = df['diff'].astype(int)\n",
    "\n",
    "df = df[df['diff'] > 60]\n"
   ]
  },
  {
   "cell_type": "code",
   "execution_count": 17,
   "metadata": {},
   "outputs": [
    {
     "data": {
      "text/html": [
       "<div>\n",
       "<style scoped>\n",
       "    .dataframe tbody tr th:only-of-type {\n",
       "        vertical-align: middle;\n",
       "    }\n",
       "\n",
       "    .dataframe tbody tr th {\n",
       "        vertical-align: top;\n",
       "    }\n",
       "\n",
       "    .dataframe thead th {\n",
       "        text-align: right;\n",
       "    }\n",
       "</style>\n",
       "<table border=\"1\" class=\"dataframe\">\n",
       "  <thead>\n",
       "    <tr style=\"text-align: right;\">\n",
       "      <th></th>\n",
       "      <th>date_gmt</th>\n",
       "      <th>open</th>\n",
       "      <th>high</th>\n",
       "      <th>low</th>\n",
       "      <th>close</th>\n",
       "      <th>volume</th>\n",
       "      <th>diff</th>\n",
       "    </tr>\n",
       "  </thead>\n",
       "  <tbody>\n",
       "    <tr>\n",
       "      <th>43022</th>\n",
       "      <td>2022-05-30 21:03:00</td>\n",
       "      <td>1.07813</td>\n",
       "      <td>1.07813</td>\n",
       "      <td>1.07801</td>\n",
       "      <td>1.07801</td>\n",
       "      <td>9.900000</td>\n",
       "      <td>120</td>\n",
       "    </tr>\n",
       "    <tr>\n",
       "      <th>43025</th>\n",
       "      <td>2022-05-30 21:10:00</td>\n",
       "      <td>1.07804</td>\n",
       "      <td>1.07806</td>\n",
       "      <td>1.07803</td>\n",
       "      <td>1.07806</td>\n",
       "      <td>75.149999</td>\n",
       "      <td>300</td>\n",
       "    </tr>\n",
       "    <tr>\n",
       "      <th>43036</th>\n",
       "      <td>2022-05-30 21:23:00</td>\n",
       "      <td>1.07809</td>\n",
       "      <td>1.07809</td>\n",
       "      <td>1.07808</td>\n",
       "      <td>1.07808</td>\n",
       "      <td>1.350000</td>\n",
       "      <td>180</td>\n",
       "    </tr>\n",
       "    <tr>\n",
       "      <th>43047</th>\n",
       "      <td>2022-05-30 21:35:00</td>\n",
       "      <td>1.07799</td>\n",
       "      <td>1.07799</td>\n",
       "      <td>1.07787</td>\n",
       "      <td>1.07787</td>\n",
       "      <td>4.050000</td>\n",
       "      <td>120</td>\n",
       "    </tr>\n",
       "    <tr>\n",
       "      <th>43066</th>\n",
       "      <td>2022-05-30 21:55:00</td>\n",
       "      <td>1.07798</td>\n",
       "      <td>1.07798</td>\n",
       "      <td>1.07794</td>\n",
       "      <td>1.07794</td>\n",
       "      <td>1.800000</td>\n",
       "      <td>120</td>\n",
       "    </tr>\n",
       "    <tr>\n",
       "      <th>...</th>\n",
       "      <td>...</td>\n",
       "      <td>...</td>\n",
       "      <td>...</td>\n",
       "      <td>...</td>\n",
       "      <td>...</td>\n",
       "      <td>...</td>\n",
       "      <td>...</td>\n",
       "    </tr>\n",
       "    <tr>\n",
       "      <th>1321405</th>\n",
       "      <td>2025-04-27 23:34:00</td>\n",
       "      <td>1.13501</td>\n",
       "      <td>1.13501</td>\n",
       "      <td>1.13501</td>\n",
       "      <td>1.13501</td>\n",
       "      <td>2.700000</td>\n",
       "      <td>120</td>\n",
       "    </tr>\n",
       "    <tr>\n",
       "      <th>1321431</th>\n",
       "      <td>2025-04-28 01:00:00</td>\n",
       "      <td>1.13641</td>\n",
       "      <td>1.13670</td>\n",
       "      <td>1.13641</td>\n",
       "      <td>1.13648</td>\n",
       "      <td>274.479996</td>\n",
       "      <td>3660</td>\n",
       "    </tr>\n",
       "    <tr>\n",
       "      <th>1321671</th>\n",
       "      <td>2025-04-28 08:00:00</td>\n",
       "      <td>1.13485</td>\n",
       "      <td>1.13487</td>\n",
       "      <td>1.13462</td>\n",
       "      <td>1.13474</td>\n",
       "      <td>345.579998</td>\n",
       "      <td>10860</td>\n",
       "    </tr>\n",
       "    <tr>\n",
       "      <th>1321971</th>\n",
       "      <td>2025-04-28 15:00:00</td>\n",
       "      <td>1.13791</td>\n",
       "      <td>1.13794</td>\n",
       "      <td>1.13772</td>\n",
       "      <td>1.13773</td>\n",
       "      <td>665.139995</td>\n",
       "      <td>7260</td>\n",
       "    </tr>\n",
       "    <tr>\n",
       "      <th>1322271</th>\n",
       "      <td>2025-04-28 22:00:00</td>\n",
       "      <td>1.14214</td>\n",
       "      <td>1.14223</td>\n",
       "      <td>1.14212</td>\n",
       "      <td>1.14222</td>\n",
       "      <td>70.199999</td>\n",
       "      <td>7260</td>\n",
       "    </tr>\n",
       "  </tbody>\n",
       "</table>\n",
       "<p>1718 rows × 7 columns</p>\n",
       "</div>"
      ],
      "text/plain": [
       "                   date_gmt     open     high      low    close      volume  \\\n",
       "43022   2022-05-30 21:03:00  1.07813  1.07813  1.07801  1.07801    9.900000   \n",
       "43025   2022-05-30 21:10:00  1.07804  1.07806  1.07803  1.07806   75.149999   \n",
       "43036   2022-05-30 21:23:00  1.07809  1.07809  1.07808  1.07808    1.350000   \n",
       "43047   2022-05-30 21:35:00  1.07799  1.07799  1.07787  1.07787    4.050000   \n",
       "43066   2022-05-30 21:55:00  1.07798  1.07798  1.07794  1.07794    1.800000   \n",
       "...                     ...      ...      ...      ...      ...         ...   \n",
       "1321405 2025-04-27 23:34:00  1.13501  1.13501  1.13501  1.13501    2.700000   \n",
       "1321431 2025-04-28 01:00:00  1.13641  1.13670  1.13641  1.13648  274.479996   \n",
       "1321671 2025-04-28 08:00:00  1.13485  1.13487  1.13462  1.13474  345.579998   \n",
       "1321971 2025-04-28 15:00:00  1.13791  1.13794  1.13772  1.13773  665.139995   \n",
       "1322271 2025-04-28 22:00:00  1.14214  1.14223  1.14212  1.14222   70.199999   \n",
       "\n",
       "          diff  \n",
       "43022      120  \n",
       "43025      300  \n",
       "43036      180  \n",
       "43047      120  \n",
       "43066      120  \n",
       "...        ...  \n",
       "1321405    120  \n",
       "1321431   3660  \n",
       "1321671  10860  \n",
       "1321971   7260  \n",
       "1322271   7260  \n",
       "\n",
       "[1718 rows x 7 columns]"
      ]
     },
     "execution_count": 17,
     "metadata": {},
     "output_type": "execute_result"
    }
   ],
   "source": [
    "df"
   ]
  },
  {
   "cell_type": "code",
   "execution_count": 18,
   "metadata": {},
   "outputs": [
    {
     "name": "stdout",
     "output_type": "stream",
     "text": [
      "Sum of differences in seconds:  15281220\n",
      "Sum of differences in minutes:  254687.0\n"
     ]
    }
   ],
   "source": [
    "sum = df['diff'].sum()\n",
    "print('Sum of differences in seconds: ', sum)\n",
    "print('Sum of differences in minutes: ', sum/60)\n"
   ]
  },
  {
   "cell_type": "code",
   "execution_count": 21,
   "metadata": {},
   "outputs": [
    {
     "name": "stdout",
     "output_type": "stream",
     "text": [
      "Sum of differences in minutes for 2022:  60347.0\n",
      "Missing 2022: 0.17165637435750106\n",
      "Sum of differences in minutes for 2023:  97330.0\n",
      "Missing 2023: 0.18440732172664215\n",
      "Sum of differences in minutes for 2024:  72144.0\n",
      "Missing 2024: 0.13671948286742508\n",
      "Sum of differences in minutes for 2025:  24866.0\n",
      "Missing 2025: 0.14261053090391884\n"
     ]
    }
   ],
   "source": [
    "sum2022 = df[df['date_gmt'].dt.year == 2022]['diff'].sum()\n",
    "print('Sum of differences in minutes for 2022: ', sum2022/60)\n",
    "print(f'Missing 2022: {(sum2022/60)/((sum2022/60)+len(orig_df[orig_df['date_gmt'].dt.year == 2022]))}')\n",
    "sum2023 = df[df['date_gmt'].dt.year == 2023]['diff'].sum()\n",
    "print('Sum of differences in minutes for 2023: ', sum2023/60)\n",
    "print(f'Missing 2023: {(sum2023/60)/((sum2023/60)+len(orig_df[orig_df['date_gmt'].dt.year == 2023]))}')\n",
    "sum2024 = df[df['date_gmt'].dt.year == 2024]['diff'].sum()\n",
    "print('Sum of differences in minutes for 2024: ', sum2024/60)\n",
    "print(f'Missing 2024: {(sum2024/60)/((sum2024/60)+len(orig_df[orig_df['date_gmt'].dt.year == 2024]))}')\n",
    "sum2025 = df[df['date_gmt'].dt.year == 2025]['diff'].sum()\n",
    "print('Sum of differences in minutes for 2025: ', sum2025/60)\n",
    "print(f'Missing 2025: {(sum2025/60)/((sum2025/60)+len(orig_df[orig_df['date_gmt'].dt.year == 2025]))}')\n"
   ]
  },
  {
   "cell_type": "code",
   "execution_count": null,
   "metadata": {},
   "outputs": [],
   "source": []
  }
 ],
 "metadata": {
  "kernelspec": {
   "display_name": "Python 3",
   "language": "python",
   "name": "python3"
  },
  "language_info": {
   "codemirror_mode": {
    "name": "ipython",
    "version": 3
   },
   "file_extension": ".py",
   "mimetype": "text/x-python",
   "name": "python",
   "nbconvert_exporter": "python",
   "pygments_lexer": "ipython3",
   "version": "3.12.0"
  },
  "orig_nbformat": 4
 },
 "nbformat": 4,
 "nbformat_minor": 2
}
